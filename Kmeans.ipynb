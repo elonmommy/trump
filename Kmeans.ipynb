{
 "cells": [
  {
   "cell_type": "code",
   "execution_count": null,
   "metadata": {},
   "outputs": [],
   "source": [
    "import matplotlib.pyplot as plt\n",
    "from sklearn.cluster import KMeans\n",
    "\n",
    "data = list(zip([4, 5, 10, 4, 3, 11, 14, 6, 10, 12], [21, 19, 24, 17, 16, 25, 24, 22, 21, 21]))\n",
    "inertias = [KMeans(n_clusters=i).fit(data).inertia_ for i in range(1, 11)]\n",
    "\n",
    "plt.plot(range(1, 11), inertias, marker='o')\n",
    "plt.title('Elbow method')\n",
    "plt.xlabel('Number of clusters')\n",
    "plt.ylabel('Inertia')\n",
    "plt.show()\n",
    "\n",
    "kmeans = KMeans(n_clusters=2).fit(data)\n",
    "plt.scatter(*zip(*data), c=kmeans.labels_)\n",
    "plt.show()"
   ]
  }
 ],
 "metadata": {
  "language_info": {
   "name": "python"
  }
 },
 "nbformat": 4,
 "nbformat_minor": 2
}
